{
 "cells": [
  {
   "cell_type": "code",
   "execution_count": 60,
   "metadata": {},
   "outputs": [],
   "source": [
    "import numpy as np\n",
    "import pandas as pd\n",
    "import os\n",
    "import sys\n",
    "sys.path.append(os.path.abspath(\"../../\"))\n",
    "import Utilities as utils\n",
    "import Constants as c\n",
    "%matplotlib inline"
   ]
  },
  {
   "cell_type": "code",
   "execution_count": 77,
   "metadata": {},
   "outputs": [
    {
     "output_type": "execute_result",
     "data": {
      "text/plain": "       R_Squared  R_Squared_Adj     MAE  PRED_25  PRED_50  T_Records\ncount     440.00         440.00  440.00   438.00   438.00     440.00\nmean       -1.89          -1.16  165.07     0.57     0.73      93.79\nstd        15.66          27.37  510.73     0.27     0.21     106.84\nmin      -202.63        -406.26    0.00     0.00     0.00       5.00\n25%        -0.13          -0.24    4.88     0.39     0.60      25.00\n50%         0.49           0.52   20.95     0.60     0.76      58.00\n75%         0.86           0.94   92.16     0.78     0.90     126.25\nmax         1.00         291.66 6225.05     1.00     1.00     887.00",
      "text/html": "<div>\n<style scoped>\n    .dataframe tbody tr th:only-of-type {\n        vertical-align: middle;\n    }\n\n    .dataframe tbody tr th {\n        vertical-align: top;\n    }\n\n    .dataframe thead th {\n        text-align: right;\n    }\n</style>\n<table border=\"1\" class=\"dataframe\">\n  <thead>\n    <tr style=\"text-align: right;\">\n      <th></th>\n      <th>R_Squared</th>\n      <th>R_Squared_Adj</th>\n      <th>MAE</th>\n      <th>PRED_25</th>\n      <th>PRED_50</th>\n      <th>T_Records</th>\n    </tr>\n  </thead>\n  <tbody>\n    <tr>\n      <th>count</th>\n      <td>440.00</td>\n      <td>440.00</td>\n      <td>440.00</td>\n      <td>438.00</td>\n      <td>438.00</td>\n      <td>440.00</td>\n    </tr>\n    <tr>\n      <th>mean</th>\n      <td>-1.89</td>\n      <td>-1.16</td>\n      <td>165.07</td>\n      <td>0.57</td>\n      <td>0.73</td>\n      <td>93.79</td>\n    </tr>\n    <tr>\n      <th>std</th>\n      <td>15.66</td>\n      <td>27.37</td>\n      <td>510.73</td>\n      <td>0.27</td>\n      <td>0.21</td>\n      <td>106.84</td>\n    </tr>\n    <tr>\n      <th>min</th>\n      <td>-202.63</td>\n      <td>-406.26</td>\n      <td>0.00</td>\n      <td>0.00</td>\n      <td>0.00</td>\n      <td>5.00</td>\n    </tr>\n    <tr>\n      <th>25%</th>\n      <td>-0.13</td>\n      <td>-0.24</td>\n      <td>4.88</td>\n      <td>0.39</td>\n      <td>0.60</td>\n      <td>25.00</td>\n    </tr>\n    <tr>\n      <th>50%</th>\n      <td>0.49</td>\n      <td>0.52</td>\n      <td>20.95</td>\n      <td>0.60</td>\n      <td>0.76</td>\n      <td>58.00</td>\n    </tr>\n    <tr>\n      <th>75%</th>\n      <td>0.86</td>\n      <td>0.94</td>\n      <td>92.16</td>\n      <td>0.78</td>\n      <td>0.90</td>\n      <td>126.25</td>\n    </tr>\n    <tr>\n      <th>max</th>\n      <td>1.00</td>\n      <td>291.66</td>\n      <td>6225.05</td>\n      <td>1.00</td>\n      <td>1.00</td>\n      <td>887.00</td>\n    </tr>\n  </tbody>\n</table>\n</div>"
     },
     "metadata": {},
     "execution_count": 77
    }
   ],
   "source": [
    "results = \"calculate_metrics_h1_ML_combined.csv\" \n",
    "columns = [c.PROJECT, c.R_SQUARED, c.R_SQUARED_ADJ, c.MAE, c.PRED_25, c.PRED_50, c.T_RECORDS, c.MODEL]\n",
    "df = pd.read_csv(results, usecols=columns)\n",
    "pd.options.display.float_format = \"{:.2f}\".format\n",
    "df = df.dropna(subset=[c.R_SQUARED])\n",
    "df_module = df[df[c.MODEL] == c.MODULE]\n",
    "df_module.describe()\n",
    "# df_module = df[df[c.R_SQUARED].isnull()]\n",
    "# df_module.head(18)\n",
    "# print(len(df_module))"
   ]
  },
  {
   "cell_type": "code",
   "execution_count": 79,
   "metadata": {},
   "outputs": [
    {
     "output_type": "execute_result",
     "data": {
      "text/plain": "       R_Squared  R_Squared_Adj       MAE  PRED_25  PRED_50  T_Records\ncount     440.00         440.00    440.00   437.00   437.00     440.00\nmean     -212.64        -196.82  14624.42     0.39     0.52      93.79\nstd      2904.36        4012.40  53231.15     0.27     0.26     106.84\nmin    -58251.06      -81551.88      0.00     0.00     0.00       5.00\n25%        -0.49          -0.82    171.93     0.20     0.36      25.00\n50%         0.17           0.18   1009.16     0.37     0.53      58.00\n75%         0.70           0.73   6488.35     0.58     0.71     126.25\nmax         1.00       14928.38 544151.79     1.00     1.00     887.00",
      "text/html": "<div>\n<style scoped>\n    .dataframe tbody tr th:only-of-type {\n        vertical-align: middle;\n    }\n\n    .dataframe tbody tr th {\n        vertical-align: top;\n    }\n\n    .dataframe thead th {\n        text-align: right;\n    }\n</style>\n<table border=\"1\" class=\"dataframe\">\n  <thead>\n    <tr style=\"text-align: right;\">\n      <th></th>\n      <th>R_Squared</th>\n      <th>R_Squared_Adj</th>\n      <th>MAE</th>\n      <th>PRED_25</th>\n      <th>PRED_50</th>\n      <th>T_Records</th>\n    </tr>\n  </thead>\n  <tbody>\n    <tr>\n      <th>count</th>\n      <td>440.00</td>\n      <td>440.00</td>\n      <td>440.00</td>\n      <td>437.00</td>\n      <td>437.00</td>\n      <td>440.00</td>\n    </tr>\n    <tr>\n      <th>mean</th>\n      <td>-212.64</td>\n      <td>-196.82</td>\n      <td>14624.42</td>\n      <td>0.39</td>\n      <td>0.52</td>\n      <td>93.79</td>\n    </tr>\n    <tr>\n      <th>std</th>\n      <td>2904.36</td>\n      <td>4012.40</td>\n      <td>53231.15</td>\n      <td>0.27</td>\n      <td>0.26</td>\n      <td>106.84</td>\n    </tr>\n    <tr>\n      <th>min</th>\n      <td>-58251.06</td>\n      <td>-81551.88</td>\n      <td>0.00</td>\n      <td>0.00</td>\n      <td>0.00</td>\n      <td>5.00</td>\n    </tr>\n    <tr>\n      <th>25%</th>\n      <td>-0.49</td>\n      <td>-0.82</td>\n      <td>171.93</td>\n      <td>0.20</td>\n      <td>0.36</td>\n      <td>25.00</td>\n    </tr>\n    <tr>\n      <th>50%</th>\n      <td>0.17</td>\n      <td>0.18</td>\n      <td>1009.16</td>\n      <td>0.37</td>\n      <td>0.53</td>\n      <td>58.00</td>\n    </tr>\n    <tr>\n      <th>75%</th>\n      <td>0.70</td>\n      <td>0.73</td>\n      <td>6488.35</td>\n      <td>0.58</td>\n      <td>0.71</td>\n      <td>126.25</td>\n    </tr>\n    <tr>\n      <th>max</th>\n      <td>1.00</td>\n      <td>14928.38</td>\n      <td>544151.79</td>\n      <td>1.00</td>\n      <td>1.00</td>\n      <td>887.00</td>\n    </tr>\n  </tbody>\n</table>\n</div>"
     },
     "metadata": {},
     "execution_count": 79
    }
   ],
   "source": [
    "df_line = df[df[c.MODEL] == c.LINE]\n",
    "df_line.describe()"
   ]
  },
  {
   "cell_type": "code",
   "execution_count": null,
   "metadata": {},
   "outputs": [],
   "source": []
  }
 ],
 "metadata": {
  "language_info": {
   "codemirror_mode": {
    "name": "ipython",
    "version": 3
   },
   "file_extension": ".py",
   "mimetype": "text/x-python",
   "name": "python",
   "nbconvert_exporter": "python",
   "pygments_lexer": "ipython3",
   "version": "3.7.6-final"
  },
  "orig_nbformat": 2,
  "kernelspec": {
   "name": "python37764bitpraxisconda7be99572d62946a196dd73814499c5a0",
   "display_name": "Python 3.7.7 64-bit ('PRAXIS': conda)"
  }
 },
 "nbformat": 4,
 "nbformat_minor": 2
}