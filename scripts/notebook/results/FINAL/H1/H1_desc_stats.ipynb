{
 "cells": [
  {
   "cell_type": "code",
   "execution_count": 1,
   "metadata": {},
   "outputs": [],
   "source": [
    "from scipy import stats\n",
    "import numpy as np\n",
    "import pandas as pd\n",
    "import os\n",
    "import sys\n",
    "sys.path.append(os.path.abspath(\"../../../../\"))\n",
    "import Constants as c\n",
    "import Utilities as utils\n",
    "%matplotlib inline"
   ]
  },
  {
   "cell_type": "code",
   "execution_count": 2,
   "metadata": {
    "tags": []
   },
   "outputs": [
    {
     "output_type": "stream",
     "name": "stdout",
     "text": "128\n105\n"
    },
    {
     "output_type": "execute_result",
     "data": {
      "text/plain": "       R_Squared    MAE  PRED_25  PRED_50  T_Records   P_NA\ncount     105.00 105.00   105.00   105.00     105.00 105.00\nmean        0.64   7.17     0.90     0.90     269.64   0.52\nstd         0.33   8.00     0.11     0.09     260.89   0.17\nmin        -0.04   0.00     0.45     0.52      22.00   0.13\n25%         0.43   1.16     0.86     0.86     135.00   0.38\n50%         0.76   3.86     0.92     0.92     189.00   0.55\n75%         0.91  11.62     0.97     0.97     284.00   0.67\nmax         1.00  34.08     1.00     1.00    1504.00   0.75",
      "text/html": "<div>\n<style scoped>\n    .dataframe tbody tr th:only-of-type {\n        vertical-align: middle;\n    }\n\n    .dataframe tbody tr th {\n        vertical-align: top;\n    }\n\n    .dataframe thead th {\n        text-align: right;\n    }\n</style>\n<table border=\"1\" class=\"dataframe\">\n  <thead>\n    <tr style=\"text-align: right;\">\n      <th></th>\n      <th>R_Squared</th>\n      <th>MAE</th>\n      <th>PRED_25</th>\n      <th>PRED_50</th>\n      <th>T_Records</th>\n      <th>P_NA</th>\n    </tr>\n  </thead>\n  <tbody>\n    <tr>\n      <th>count</th>\n      <td>105.00</td>\n      <td>105.00</td>\n      <td>105.00</td>\n      <td>105.00</td>\n      <td>105.00</td>\n      <td>105.00</td>\n    </tr>\n    <tr>\n      <th>mean</th>\n      <td>0.64</td>\n      <td>7.17</td>\n      <td>0.90</td>\n      <td>0.90</td>\n      <td>269.64</td>\n      <td>0.52</td>\n    </tr>\n    <tr>\n      <th>std</th>\n      <td>0.33</td>\n      <td>8.00</td>\n      <td>0.11</td>\n      <td>0.09</td>\n      <td>260.89</td>\n      <td>0.17</td>\n    </tr>\n    <tr>\n      <th>min</th>\n      <td>-0.04</td>\n      <td>0.00</td>\n      <td>0.45</td>\n      <td>0.52</td>\n      <td>22.00</td>\n      <td>0.13</td>\n    </tr>\n    <tr>\n      <th>25%</th>\n      <td>0.43</td>\n      <td>1.16</td>\n      <td>0.86</td>\n      <td>0.86</td>\n      <td>135.00</td>\n      <td>0.38</td>\n    </tr>\n    <tr>\n      <th>50%</th>\n      <td>0.76</td>\n      <td>3.86</td>\n      <td>0.92</td>\n      <td>0.92</td>\n      <td>189.00</td>\n      <td>0.55</td>\n    </tr>\n    <tr>\n      <th>75%</th>\n      <td>0.91</td>\n      <td>11.62</td>\n      <td>0.97</td>\n      <td>0.97</td>\n      <td>284.00</td>\n      <td>0.67</td>\n    </tr>\n    <tr>\n      <th>max</th>\n      <td>1.00</td>\n      <td>34.08</td>\n      <td>1.00</td>\n      <td>1.00</td>\n      <td>1504.00</td>\n      <td>0.75</td>\n    </tr>\n  </tbody>\n</table>\n</div>"
     },
     "metadata": {},
     "execution_count": 2
    }
   ],
   "source": [
    "results = \"../../05_30_2020/model_performance_results.csv\"\n",
    "columns = [c.MODEL, c.TASK, c.R_SQUARED, c.MAE, c.PRED_25, c.PRED_50, c.T_RECORDS, c.T_RECORDS, \"P_NA\"]\n",
    "df = pd.read_csv(results, usecols=columns)\n",
    "pd.options.display.float_format = \"{:.2f}\".format\n",
    "task_filter = df[c.TASK] == \"BUG\"\n",
    "\n",
    "filter1 = df[c.MODEL] == c.MODULE_CC\n",
    "filter2 = df[c.MODEL] == c.MODULE_EC\n",
    "model_filter = filter1 | filter2\n",
    "df_module = df[model_filter & task_filter]\n",
    "\n",
    "print(len(df_module))\n",
    "df_module = utils.remove_outlier(df_module, c.MAE)\n",
    "print(len(df_module))\n",
    "df_module.describe()"
   ]
  },
  {
   "cell_type": "code",
   "execution_count": 3,
   "metadata": {},
   "outputs": [
    {
     "output_type": "execute_result",
     "data": {
      "text/plain": "(array([0.87405588]), array([0.91622983]))"
     },
     "metadata": {},
     "execution_count": 3
    }
   ],
   "source": [
    "df_module = df_module[[c.PRED_25]]\n",
    "mean, sigma = df_module.mean(), df_module.std()\n",
    "length = df_module.size\n",
    "\n",
    "conf_int = stats.norm.interval(0.95, loc=mean, scale=sigma/np.sqrt(length))\n",
    "conf_int"
   ]
  },
  {
   "cell_type": "code",
   "execution_count": 4,
   "metadata": {},
   "outputs": [
    {
     "output_type": "execute_result",
     "data": {
      "text/plain": "       R_Squared     MAE  PRED_25  PRED_50  T_Records   P_NA\ncount     106.00  106.00   106.00   106.00     106.00 106.00\nmean        0.55  261.42     0.86     0.87     268.32   0.52\nstd         0.36  412.77     0.13     0.12     260.03   0.17\nmin        -0.05    0.00     0.33     0.44      22.00   0.13\n25%         0.29   16.18     0.82     0.82     135.00   0.38\n50%         0.56  103.87     0.89     0.89     187.50   0.54\n75%         0.91  311.02     0.95     0.95     284.00   0.67\nmax         1.00 1927.86     1.00     1.00    1504.00   0.75",
      "text/html": "<div>\n<style scoped>\n    .dataframe tbody tr th:only-of-type {\n        vertical-align: middle;\n    }\n\n    .dataframe tbody tr th {\n        vertical-align: top;\n    }\n\n    .dataframe thead th {\n        text-align: right;\n    }\n</style>\n<table border=\"1\" class=\"dataframe\">\n  <thead>\n    <tr style=\"text-align: right;\">\n      <th></th>\n      <th>R_Squared</th>\n      <th>MAE</th>\n      <th>PRED_25</th>\n      <th>PRED_50</th>\n      <th>T_Records</th>\n      <th>P_NA</th>\n    </tr>\n  </thead>\n  <tbody>\n    <tr>\n      <th>count</th>\n      <td>106.00</td>\n      <td>106.00</td>\n      <td>106.00</td>\n      <td>106.00</td>\n      <td>106.00</td>\n      <td>106.00</td>\n    </tr>\n    <tr>\n      <th>mean</th>\n      <td>0.55</td>\n      <td>261.42</td>\n      <td>0.86</td>\n      <td>0.87</td>\n      <td>268.32</td>\n      <td>0.52</td>\n    </tr>\n    <tr>\n      <th>std</th>\n      <td>0.36</td>\n      <td>412.77</td>\n      <td>0.13</td>\n      <td>0.12</td>\n      <td>260.03</td>\n      <td>0.17</td>\n    </tr>\n    <tr>\n      <th>min</th>\n      <td>-0.05</td>\n      <td>0.00</td>\n      <td>0.33</td>\n      <td>0.44</td>\n      <td>22.00</td>\n      <td>0.13</td>\n    </tr>\n    <tr>\n      <th>25%</th>\n      <td>0.29</td>\n      <td>16.18</td>\n      <td>0.82</td>\n      <td>0.82</td>\n      <td>135.00</td>\n      <td>0.38</td>\n    </tr>\n    <tr>\n      <th>50%</th>\n      <td>0.56</td>\n      <td>103.87</td>\n      <td>0.89</td>\n      <td>0.89</td>\n      <td>187.50</td>\n      <td>0.54</td>\n    </tr>\n    <tr>\n      <th>75%</th>\n      <td>0.91</td>\n      <td>311.02</td>\n      <td>0.95</td>\n      <td>0.95</td>\n      <td>284.00</td>\n      <td>0.67</td>\n    </tr>\n    <tr>\n      <th>max</th>\n      <td>1.00</td>\n      <td>1927.86</td>\n      <td>1.00</td>\n      <td>1.00</td>\n      <td>1504.00</td>\n      <td>0.75</td>\n    </tr>\n  </tbody>\n</table>\n</div>"
     },
     "metadata": {},
     "execution_count": 4
    }
   ],
   "source": [
    "filter1 = df[c.MODEL] == c.LINE_CC\n",
    "filter2 = df[c.MODEL] == c.LINE_EC\n",
    "model_filter = filter1 | filter2\n",
    "df_line = df[model_filter & task_filter]\n",
    "\n",
    "df_line = utils.remove_outlier(df_line, c.MAE)\n",
    "df_line.describe()"
   ]
  },
  {
   "cell_type": "code",
   "execution_count": 5,
   "metadata": {},
   "outputs": [
    {
     "output_type": "execute_result",
     "data": {
      "text/plain": "(array([0.83446749]), array([0.88553251]))"
     },
     "metadata": {},
     "execution_count": 5
    }
   ],
   "source": [
    "df_line = df_line[[c.PRED_25]]\n",
    "mean, sigma = df_line.mean(), df_line.std()\n",
    "length = df_line.size\n",
    "\n",
    "conf_int = stats.norm.interval(0.95, loc=mean, scale=sigma/np.sqrt(length))\n",
    "conf_int"
   ]
  }
 ],
 "metadata": {
  "language_info": {
   "codemirror_mode": {
    "name": "ipython",
    "version": 3
   },
   "file_extension": ".py",
   "mimetype": "text/x-python",
   "name": "python",
   "nbconvert_exporter": "python",
   "pygments_lexer": "ipython3",
   "version": "3.7.6-final"
  },
  "orig_nbformat": 2,
  "kernelspec": {
   "name": "python37764bitpraxisconda7be99572d62946a196dd73814499c5a0",
   "display_name": "Python 3.7.7 64-bit ('PRAXIS': conda)"
  }
 },
 "nbformat": 4,
 "nbformat_minor": 2
}