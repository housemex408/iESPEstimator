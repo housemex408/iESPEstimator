{
 "cells": [
  {
   "cell_type": "code",
   "execution_count": 106,
   "metadata": {},
   "outputs": [],
   "source": [
    "from scipy import stats\n",
    "import numpy as np\n",
    "import pandas as pd\n",
    "import os\n",
    "import sys\n",
    "sys.path.append(os.path.abspath(\"../../../../\"))\n",
    "import Constants as c\n",
    "import Utilities as utils\n",
    "%matplotlib inline"
   ]
  },
  {
   "cell_type": "code",
   "execution_count": 107,
   "metadata": {},
   "outputs": [
    {
     "output_type": "execute_result",
     "data": {
      "text/plain": "       R_Squared     MAE  PRED_25  PRED_50  T_Records   P_NA\ncount     192.00  192.00   192.00   192.00     192.00 192.00\nmean        0.70   40.89     0.75     0.82     269.34   0.59\nstd         0.34  149.79     0.16     0.11     245.45   0.25\nmin        -0.05    0.00     0.29     0.49      22.00   0.01\n25%         0.54    1.54     0.64     0.75     134.75   0.40\n50%         0.84    5.07     0.74     0.83     196.50   0.59\n75%         0.97   18.62     0.88     0.90     303.75   0.79\nmax         1.00 1390.18     1.00     1.00    1504.00   1.00",
      "text/html": "<div>\n<style scoped>\n    .dataframe tbody tr th:only-of-type {\n        vertical-align: middle;\n    }\n\n    .dataframe tbody tr th {\n        vertical-align: top;\n    }\n\n    .dataframe thead th {\n        text-align: right;\n    }\n</style>\n<table border=\"1\" class=\"dataframe\">\n  <thead>\n    <tr style=\"text-align: right;\">\n      <th></th>\n      <th>R_Squared</th>\n      <th>MAE</th>\n      <th>PRED_25</th>\n      <th>PRED_50</th>\n      <th>T_Records</th>\n      <th>P_NA</th>\n    </tr>\n  </thead>\n  <tbody>\n    <tr>\n      <th>count</th>\n      <td>192.00</td>\n      <td>192.00</td>\n      <td>192.00</td>\n      <td>192.00</td>\n      <td>192.00</td>\n      <td>192.00</td>\n    </tr>\n    <tr>\n      <th>mean</th>\n      <td>0.70</td>\n      <td>40.89</td>\n      <td>0.75</td>\n      <td>0.82</td>\n      <td>269.34</td>\n      <td>0.59</td>\n    </tr>\n    <tr>\n      <th>std</th>\n      <td>0.34</td>\n      <td>149.79</td>\n      <td>0.16</td>\n      <td>0.11</td>\n      <td>245.45</td>\n      <td>0.25</td>\n    </tr>\n    <tr>\n      <th>min</th>\n      <td>-0.05</td>\n      <td>0.00</td>\n      <td>0.29</td>\n      <td>0.49</td>\n      <td>22.00</td>\n      <td>0.01</td>\n    </tr>\n    <tr>\n      <th>25%</th>\n      <td>0.54</td>\n      <td>1.54</td>\n      <td>0.64</td>\n      <td>0.75</td>\n      <td>134.75</td>\n      <td>0.40</td>\n    </tr>\n    <tr>\n      <th>50%</th>\n      <td>0.84</td>\n      <td>5.07</td>\n      <td>0.74</td>\n      <td>0.83</td>\n      <td>196.50</td>\n      <td>0.59</td>\n    </tr>\n    <tr>\n      <th>75%</th>\n      <td>0.97</td>\n      <td>18.62</td>\n      <td>0.88</td>\n      <td>0.90</td>\n      <td>303.75</td>\n      <td>0.79</td>\n    </tr>\n    <tr>\n      <th>max</th>\n      <td>1.00</td>\n      <td>1390.18</td>\n      <td>1.00</td>\n      <td>1.00</td>\n      <td>1504.00</td>\n      <td>1.00</td>\n    </tr>\n  </tbody>\n</table>\n</div>"
     },
     "metadata": {},
     "execution_count": 107
    }
   ],
   "source": [
    "results = \"h1_model_performance_05_27_2020.csv\"\n",
    "columns = [c.MODEL, c.TASK, c.R_SQUARED, c.MAE, c.PRED_25, c.PRED_50, c.T_RECORDS, c.T_RECORDS, \"P_NA\"]\n",
    "df = pd.read_csv(results, usecols=columns)\n",
    "pd.options.display.float_format = \"{:.2f}\".format\n",
    "model_filter = df[c.MODEL] == c.MODULE\n",
    "task_filter = df[c.TASK] == \"BUG\"\n",
    "df_module = df[model_filter & task_filter]\n",
    "df_module.describe()"
   ]
  },
  {
   "cell_type": "code",
   "execution_count": 108,
   "metadata": {},
   "outputs": [
    {
     "output_type": "execute_result",
     "data": {
      "text/plain": "(array([0.72363921]), array([0.76896496]))"
     },
     "metadata": {},
     "execution_count": 108
    }
   ],
   "source": [
    "df_module = df_module[[c.PRED_25]]\n",
    "mean, sigma = df_module.mean(), df_module.std()\n",
    "length = df_module.size\n",
    "\n",
    "conf_int = stats.norm.interval(0.95, loc=mean, scale=sigma/np.sqrt(length))\n",
    "conf_int"
   ]
  },
  {
   "cell_type": "code",
   "execution_count": 109,
   "metadata": {},
   "outputs": [
    {
     "output_type": "execute_result",
     "data": {
      "text/plain": "       R_Squared       MAE  PRED_25  PRED_50  T_Records   P_NA\ncount     192.00    192.00   192.00   192.00     192.00 192.00\nmean        0.55   2207.30     0.69     0.75     269.34   0.59\nstd         0.37   9621.06     0.19     0.15     245.45   0.25\nmin        -0.02      0.00     0.16     0.30      22.00   0.01\n25%         0.20     31.50     0.54     0.65     134.75   0.40\n50%         0.62    165.87     0.68     0.76     196.50   0.59\n75%         0.91    934.80     0.85     0.87     303.75   0.79\nmax         1.00 117946.19     1.00     1.00    1504.00   1.00",
      "text/html": "<div>\n<style scoped>\n    .dataframe tbody tr th:only-of-type {\n        vertical-align: middle;\n    }\n\n    .dataframe tbody tr th {\n        vertical-align: top;\n    }\n\n    .dataframe thead th {\n        text-align: right;\n    }\n</style>\n<table border=\"1\" class=\"dataframe\">\n  <thead>\n    <tr style=\"text-align: right;\">\n      <th></th>\n      <th>R_Squared</th>\n      <th>MAE</th>\n      <th>PRED_25</th>\n      <th>PRED_50</th>\n      <th>T_Records</th>\n      <th>P_NA</th>\n    </tr>\n  </thead>\n  <tbody>\n    <tr>\n      <th>count</th>\n      <td>192.00</td>\n      <td>192.00</td>\n      <td>192.00</td>\n      <td>192.00</td>\n      <td>192.00</td>\n      <td>192.00</td>\n    </tr>\n    <tr>\n      <th>mean</th>\n      <td>0.55</td>\n      <td>2207.30</td>\n      <td>0.69</td>\n      <td>0.75</td>\n      <td>269.34</td>\n      <td>0.59</td>\n    </tr>\n    <tr>\n      <th>std</th>\n      <td>0.37</td>\n      <td>9621.06</td>\n      <td>0.19</td>\n      <td>0.15</td>\n      <td>245.45</td>\n      <td>0.25</td>\n    </tr>\n    <tr>\n      <th>min</th>\n      <td>-0.02</td>\n      <td>0.00</td>\n      <td>0.16</td>\n      <td>0.30</td>\n      <td>22.00</td>\n      <td>0.01</td>\n    </tr>\n    <tr>\n      <th>25%</th>\n      <td>0.20</td>\n      <td>31.50</td>\n      <td>0.54</td>\n      <td>0.65</td>\n      <td>134.75</td>\n      <td>0.40</td>\n    </tr>\n    <tr>\n      <th>50%</th>\n      <td>0.62</td>\n      <td>165.87</td>\n      <td>0.68</td>\n      <td>0.76</td>\n      <td>196.50</td>\n      <td>0.59</td>\n    </tr>\n    <tr>\n      <th>75%</th>\n      <td>0.91</td>\n      <td>934.80</td>\n      <td>0.85</td>\n      <td>0.87</td>\n      <td>303.75</td>\n      <td>0.79</td>\n    </tr>\n    <tr>\n      <th>max</th>\n      <td>1.00</td>\n      <td>117946.19</td>\n      <td>1.00</td>\n      <td>1.00</td>\n      <td>1504.00</td>\n      <td>1.00</td>\n    </tr>\n  </tbody>\n</table>\n</div>"
     },
     "metadata": {},
     "execution_count": 109
    }
   ],
   "source": [
    "model_filter = df[c.MODEL] == c.LINE\n",
    "df_line = df[model_filter & task_filter]\n",
    "df_line.describe()"
   ]
  },
  {
   "cell_type": "code",
   "execution_count": 110,
   "metadata": {},
   "outputs": [
    {
     "output_type": "execute_result",
     "data": {
      "text/plain": "(array([0.65930347]), array([0.71413403]))"
     },
     "metadata": {},
     "execution_count": 110
    }
   ],
   "source": [
    "df_line = df_line[[c.PRED_25]]\n",
    "mean, sigma = df_line.mean(), df_line.std()\n",
    "length = df_line.size\n",
    "\n",
    "conf_int = stats.norm.interval(0.95, loc=mean, scale=sigma/np.sqrt(length))\n",
    "conf_int"
   ]
  }
 ],
 "metadata": {
  "language_info": {
   "codemirror_mode": {
    "name": "ipython",
    "version": 3
   },
   "file_extension": ".py",
   "mimetype": "text/x-python",
   "name": "python",
   "nbconvert_exporter": "python",
   "pygments_lexer": "ipython3",
   "version": "3.7.6-final"
  },
  "orig_nbformat": 2,
  "kernelspec": {
   "name": "python37764bitpraxisconda7be99572d62946a196dd73814499c5a0",
   "display_name": "Python 3.7.7 64-bit ('PRAXIS': conda)"
  }
 },
 "nbformat": 4,
 "nbformat_minor": 2
}