{
 "cells": [
  {
   "cell_type": "code",
   "execution_count": 16,
   "metadata": {},
   "outputs": [],
   "source": [
    "import numpy as np\n",
    "import pandas as pd\n",
    "import os\n",
    "import sys\n",
    "sys.path.append(os.path.abspath(\"../../../../\"))\n",
    "import Constants as c\n",
    "import Utilities as utils\n",
    "%matplotlib inline"
   ]
  },
  {
   "cell_type": "code",
   "execution_count": 17,
   "metadata": {},
   "outputs": [
    {
     "output_type": "execute_result",
     "data": {
      "text/plain": "       R_Squared      MAE  PRED_25  PRED_50  T_Records    P_NA\ncount    1728.00  1728.00  1728.00  1728.00    1728.00 1728.00\nmean        0.68    56.71     0.85     0.89     269.34    0.77\nstd         0.37   557.91     0.16     0.11     244.88    0.24\nmin        -0.14     0.00     0.15     0.30      22.00    0.01\n25%         0.47     0.11     0.76     0.84     134.75    0.62\n50%         0.86     1.37     0.91     0.93     196.50    0.85\n75%         0.98     9.21     0.98     0.98     303.75    0.96\nmax         1.00 20013.52     1.00     1.00    1504.00    1.00",
      "text/html": "<div>\n<style scoped>\n    .dataframe tbody tr th:only-of-type {\n        vertical-align: middle;\n    }\n\n    .dataframe tbody tr th {\n        vertical-align: top;\n    }\n\n    .dataframe thead th {\n        text-align: right;\n    }\n</style>\n<table border=\"1\" class=\"dataframe\">\n  <thead>\n    <tr style=\"text-align: right;\">\n      <th></th>\n      <th>R_Squared</th>\n      <th>MAE</th>\n      <th>PRED_25</th>\n      <th>PRED_50</th>\n      <th>T_Records</th>\n      <th>P_NA</th>\n    </tr>\n  </thead>\n  <tbody>\n    <tr>\n      <th>count</th>\n      <td>1728.00</td>\n      <td>1728.00</td>\n      <td>1728.00</td>\n      <td>1728.00</td>\n      <td>1728.00</td>\n      <td>1728.00</td>\n    </tr>\n    <tr>\n      <th>mean</th>\n      <td>0.68</td>\n      <td>56.71</td>\n      <td>0.85</td>\n      <td>0.89</td>\n      <td>269.34</td>\n      <td>0.77</td>\n    </tr>\n    <tr>\n      <th>std</th>\n      <td>0.37</td>\n      <td>557.91</td>\n      <td>0.16</td>\n      <td>0.11</td>\n      <td>244.88</td>\n      <td>0.24</td>\n    </tr>\n    <tr>\n      <th>min</th>\n      <td>-0.14</td>\n      <td>0.00</td>\n      <td>0.15</td>\n      <td>0.30</td>\n      <td>22.00</td>\n      <td>0.01</td>\n    </tr>\n    <tr>\n      <th>25%</th>\n      <td>0.47</td>\n      <td>0.11</td>\n      <td>0.76</td>\n      <td>0.84</td>\n      <td>134.75</td>\n      <td>0.62</td>\n    </tr>\n    <tr>\n      <th>50%</th>\n      <td>0.86</td>\n      <td>1.37</td>\n      <td>0.91</td>\n      <td>0.93</td>\n      <td>196.50</td>\n      <td>0.85</td>\n    </tr>\n    <tr>\n      <th>75%</th>\n      <td>0.98</td>\n      <td>9.21</td>\n      <td>0.98</td>\n      <td>0.98</td>\n      <td>303.75</td>\n      <td>0.96</td>\n    </tr>\n    <tr>\n      <th>max</th>\n      <td>1.00</td>\n      <td>20013.52</td>\n      <td>1.00</td>\n      <td>1.00</td>\n      <td>1504.00</td>\n      <td>1.00</td>\n    </tr>\n  </tbody>\n</table>\n</div>"
     },
     "metadata": {},
     "execution_count": 17
    }
   ],
   "source": [
    "results = \"calculate_metrics_h1_DT_05_27_2020.csv\"\n",
    "columns = [c.MODEL, c.R_SQUARED, c.MAE, c.PRED_25, c.PRED_50, c.T_RECORDS, c.T_RECORDS, \"P_NA\"]\n",
    "df = pd.read_csv(results, usecols=columns)\n",
    "pd.options.display.float_format = \"{:.2f}\".format\n",
    "df_module = df[df[c.MODEL] == c.MODULE]\n",
    "df_module.describe()"
   ]
  },
  {
   "cell_type": "code",
   "execution_count": 18,
   "metadata": {},
   "outputs": [
    {
     "output_type": "execute_result",
     "data": {
      "text/plain": "       R_Squared       MAE  PRED_25  PRED_50  T_Records    P_NA\ncount    1728.00   1728.00  1728.00  1728.00    1728.00 1728.00\nmean        0.59   3480.88     0.82     0.86     269.34    0.77\nstd         0.39  20784.01     0.19     0.15     244.88    0.24\nmin        -0.11      0.00     0.16     0.20      22.00    0.01\n25%         0.19      2.11     0.73     0.78     134.75    0.62\n50%         0.72     52.72     0.89     0.91     196.50    0.85\n75%         0.97    464.37     0.98     0.98     303.75    0.96\nmax         1.00 433164.04     1.00     1.00    1504.00    1.00",
      "text/html": "<div>\n<style scoped>\n    .dataframe tbody tr th:only-of-type {\n        vertical-align: middle;\n    }\n\n    .dataframe tbody tr th {\n        vertical-align: top;\n    }\n\n    .dataframe thead th {\n        text-align: right;\n    }\n</style>\n<table border=\"1\" class=\"dataframe\">\n  <thead>\n    <tr style=\"text-align: right;\">\n      <th></th>\n      <th>R_Squared</th>\n      <th>MAE</th>\n      <th>PRED_25</th>\n      <th>PRED_50</th>\n      <th>T_Records</th>\n      <th>P_NA</th>\n    </tr>\n  </thead>\n  <tbody>\n    <tr>\n      <th>count</th>\n      <td>1728.00</td>\n      <td>1728.00</td>\n      <td>1728.00</td>\n      <td>1728.00</td>\n      <td>1728.00</td>\n      <td>1728.00</td>\n    </tr>\n    <tr>\n      <th>mean</th>\n      <td>0.59</td>\n      <td>3480.88</td>\n      <td>0.82</td>\n      <td>0.86</td>\n      <td>269.34</td>\n      <td>0.77</td>\n    </tr>\n    <tr>\n      <th>std</th>\n      <td>0.39</td>\n      <td>20784.01</td>\n      <td>0.19</td>\n      <td>0.15</td>\n      <td>244.88</td>\n      <td>0.24</td>\n    </tr>\n    <tr>\n      <th>min</th>\n      <td>-0.11</td>\n      <td>0.00</td>\n      <td>0.16</td>\n      <td>0.20</td>\n      <td>22.00</td>\n      <td>0.01</td>\n    </tr>\n    <tr>\n      <th>25%</th>\n      <td>0.19</td>\n      <td>2.11</td>\n      <td>0.73</td>\n      <td>0.78</td>\n      <td>134.75</td>\n      <td>0.62</td>\n    </tr>\n    <tr>\n      <th>50%</th>\n      <td>0.72</td>\n      <td>52.72</td>\n      <td>0.89</td>\n      <td>0.91</td>\n      <td>196.50</td>\n      <td>0.85</td>\n    </tr>\n    <tr>\n      <th>75%</th>\n      <td>0.97</td>\n      <td>464.37</td>\n      <td>0.98</td>\n      <td>0.98</td>\n      <td>303.75</td>\n      <td>0.96</td>\n    </tr>\n    <tr>\n      <th>max</th>\n      <td>1.00</td>\n      <td>433164.04</td>\n      <td>1.00</td>\n      <td>1.00</td>\n      <td>1504.00</td>\n      <td>1.00</td>\n    </tr>\n  </tbody>\n</table>\n</div>"
     },
     "metadata": {},
     "execution_count": 18
    }
   ],
   "source": [
    "df_line = df[df[c.MODEL] == c.LINE]\n",
    "df_line.describe()"
   ]
  },
  {
   "cell_type": "code",
   "execution_count": null,
   "metadata": {},
   "outputs": [],
   "source": []
  }
 ],
 "metadata": {
  "language_info": {
   "codemirror_mode": {
    "name": "ipython",
    "version": 3
   },
   "file_extension": ".py",
   "mimetype": "text/x-python",
   "name": "python",
   "nbconvert_exporter": "python",
   "pygments_lexer": "ipython3",
   "version": "3.7.6-final"
  },
  "orig_nbformat": 2,
  "kernelspec": {
   "name": "python37664bitpraxiscondaf7d8b113a1f14b248180a2b4d16cace7",
   "display_name": "Python 3.7.6 64-bit ('PRAXIS': conda)"
  }
 },
 "nbformat": 4,
 "nbformat_minor": 2
}