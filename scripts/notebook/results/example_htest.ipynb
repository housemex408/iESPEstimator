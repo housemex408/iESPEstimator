{
 "cells": [
  {
   "cell_type": "code",
   "execution_count": 54,
   "metadata": {},
   "outputs": [],
   "source": [
    "from scipy.stats import ttest_1samp\n",
    "from scipy.stats import shapiro\n",
    "import numpy as np"
   ]
  },
  {
   "cell_type": "code",
   "execution_count": 55,
   "metadata": {},
   "outputs": [
    {
     "output_type": "stream",
     "name": "stdout",
     "text": "[20, 54, 23, 10, 36, 44, 89, 63, 5, 4]\nSample looks Gaussian (fail to reject H0)\n"
    }
   ],
   "source": [
    "# mean is 34.8\n",
    "ages = [20, 54, 23, 10, 36, 44, 89, 63, 5, 4]\n",
    "stat, p = shapiro(ages)\n",
    "print(ages)\n",
    "if p > 0.05:\n",
    "\tprint('Sample looks Gaussian (fail to reject H0)')\n",
    "else:\n",
    "\tprint('Sample does not look Gaussian (reject H0)')"
   ]
  },
  {
   "cell_type": "code",
   "execution_count": 56,
   "metadata": {},
   "outputs": [
    {
     "output_type": "stream",
     "name": "stdout",
     "text": "34.8\n"
    }
   ],
   "source": [
    "ages_mean = np.mean(ages)\n",
    "print(ages_mean)\n",
    "tset, pval = ttest_1samp(ages, 27)"
   ]
  },
  {
   "cell_type": "code",
   "execution_count": 57,
   "metadata": {},
   "outputs": [
    {
     "output_type": "stream",
     "name": "stdout",
     "text": "p-values 0.3993936931683728\n"
    }
   ],
   "source": [
    "print(\"p-values\",pval)"
   ]
  },
  {
   "cell_type": "code",
   "execution_count": 58,
   "metadata": {},
   "outputs": [
    {
     "output_type": "stream",
     "name": "stdout",
     "text": "we are accepting null hypothesis\n"
    }
   ],
   "source": [
    "# Null Hypothesis: there is enough evidence at significance level 0.05\n",
    "# --that the population mean is 47\n",
    "# Alt Hypothesis:  there is evidence at significance level 0.05 \n",
    "# --that the population mean is not 47\n",
    "if pval < 0.05:    # alpha value is 0.05 or 5%\n",
    "   print(\" we are rejecting null hypothesis\")\n",
    "else:\n",
    "  print(\"we are accepting null hypothesis\")"
   ]
  },
  {
   "cell_type": "code",
   "execution_count": null,
   "metadata": {},
   "outputs": [],
   "source": []
  }
 ],
 "metadata": {
  "language_info": {
   "codemirror_mode": {
    "name": "ipython",
    "version": 3
   },
   "file_extension": ".py",
   "mimetype": "text/x-python",
   "name": "python",
   "nbconvert_exporter": "python",
   "pygments_lexer": "ipython3",
   "version": "3.7.6-final"
  },
  "orig_nbformat": 2,
  "kernelspec": {
   "name": "python37664bitpraxiscondaf7d8b113a1f14b248180a2b4d16cace7",
   "display_name": "Python 3.7.6 64-bit ('PRAXIS': conda)"
  }
 },
 "nbformat": 4,
 "nbformat_minor": 2
}